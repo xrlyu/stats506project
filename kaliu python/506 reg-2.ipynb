{
 "cells": [
  {
   "cell_type": "code",
   "execution_count": 6,
   "metadata": {},
   "outputs": [],
   "source": [
    "import pandas as pd\n",
    "import numpy as np\n",
    "import statsmodels.formula.api as smf\n",
    "from sklearn import linear_model\n",
    "import statsmodels.api as sm "
   ]
  },
  {
   "cell_type": "code",
   "execution_count": 2,
   "metadata": {},
   "outputs": [],
   "source": [
    "Data=pd.read_csv(r'C:\\Users\\lenovo\\Desktop\\506\\project 506\\Data1.csv')\n",
    "Data=Data.drop(['SEQN'],axis=1)#drop the id variable 'SEQN' \n",
    "Data['AGE2']=Data[['AGE']]*Data[['AGE']]\n",
    "Data['LBXTR2']=Data[['LBXTR']]*Data[['LBXTR']]"
   ]
  },
  {
   "cell_type": "code",
   "execution_count": 3,
   "metadata": {},
   "outputs": [],
   "source": [
    "Data['RACE']=Data[['RACE']].astype(str) #try to change it to a factor"
   ]
  },
  {
   "cell_type": "code",
   "execution_count": 4,
   "metadata": {},
   "outputs": [],
   "source": [
    "y=Data[['LBDLDL']]\n",
    "x=Data[['LBXTR','LBXTR2','BPXDI','AGE','AGE2','RACE','BPXSY','HEIGHT','CHOL']]"
   ]
  },
  {
   "cell_type": "code",
   "execution_count": 15,
   "metadata": {},
   "outputs": [],
   "source": [
    "x=sm.add_constant(x)"
   ]
  },
  {
   "cell_type": "code",
   "execution_count": 16,
   "metadata": {},
   "outputs": [],
   "source": [
    "lm=sm.OLS(y.astype(float),x.astype(float)).fit()"
   ]
  },
  {
   "cell_type": "code",
   "execution_count": 17,
   "metadata": {},
   "outputs": [
    {
     "data": {
      "text/html": [
       "<table class=\"simpletable\">\n",
       "<caption>OLS Regression Results</caption>\n",
       "<tr>\n",
       "  <th>Dep. Variable:</th>         <td>LBDLDL</td>      <th>  R-squared:         </th> <td>   0.206</td> \n",
       "</tr>\n",
       "<tr>\n",
       "  <th>Model:</th>                   <td>OLS</td>       <th>  Adj. R-squared:    </th> <td>   0.203</td> \n",
       "</tr>\n",
       "<tr>\n",
       "  <th>Method:</th>             <td>Least Squares</td>  <th>  F-statistic:       </th> <td>   71.99</td> \n",
       "</tr>\n",
       "<tr>\n",
       "  <th>Date:</th>             <td>Thu, 05 Dec 2019</td> <th>  Prob (F-statistic):</th> <td>2.03e-118</td>\n",
       "</tr>\n",
       "<tr>\n",
       "  <th>Time:</th>                 <td>14:15:44</td>     <th>  Log-Likelihood:    </th> <td> -12212.</td> \n",
       "</tr>\n",
       "<tr>\n",
       "  <th>No. Observations:</th>      <td>  2503</td>      <th>  AIC:               </th> <td>2.444e+04</td>\n",
       "</tr>\n",
       "<tr>\n",
       "  <th>Df Residuals:</th>          <td>  2493</td>      <th>  BIC:               </th> <td>2.450e+04</td>\n",
       "</tr>\n",
       "<tr>\n",
       "  <th>Df Model:</th>              <td>     9</td>      <th>                     </th>     <td> </td>    \n",
       "</tr>\n",
       "<tr>\n",
       "  <th>Covariance Type:</th>      <td>nonrobust</td>    <th>                     </th>     <td> </td>    \n",
       "</tr>\n",
       "</table>\n",
       "<table class=\"simpletable\">\n",
       "<tr>\n",
       "     <td></td>       <th>coef</th>     <th>std err</th>      <th>t</th>      <th>P>|t|</th>  <th>[0.025</th>    <th>0.975]</th>  \n",
       "</tr>\n",
       "<tr>\n",
       "  <th>const</th>  <td>   35.2934</td> <td>   11.521</td> <td>    3.063</td> <td> 0.002</td> <td>   12.702</td> <td>   57.885</td>\n",
       "</tr>\n",
       "<tr>\n",
       "  <th>LBXTR</th>  <td>    0.4379</td> <td>    0.033</td> <td>   13.152</td> <td> 0.000</td> <td>    0.373</td> <td>    0.503</td>\n",
       "</tr>\n",
       "<tr>\n",
       "  <th>LBXTR2</th> <td>   -0.0010</td> <td>    0.000</td> <td>   -9.723</td> <td> 0.000</td> <td>   -0.001</td> <td>   -0.001</td>\n",
       "</tr>\n",
       "<tr>\n",
       "  <th>BPXDI</th>  <td>    0.1121</td> <td>    0.059</td> <td>    1.897</td> <td> 0.058</td> <td>   -0.004</td> <td>    0.228</td>\n",
       "</tr>\n",
       "<tr>\n",
       "  <th>AGE</th>    <td>    2.0966</td> <td>    0.176</td> <td>   11.925</td> <td> 0.000</td> <td>    1.752</td> <td>    2.441</td>\n",
       "</tr>\n",
       "<tr>\n",
       "  <th>AGE2</th>   <td>   -0.0221</td> <td>    0.002</td> <td>  -11.502</td> <td> 0.000</td> <td>   -0.026</td> <td>   -0.018</td>\n",
       "</tr>\n",
       "<tr>\n",
       "  <th>RACE</th>   <td>    0.9698</td> <td>    0.410</td> <td>    2.363</td> <td> 0.018</td> <td>    0.165</td> <td>    1.775</td>\n",
       "</tr>\n",
       "<tr>\n",
       "  <th>BPXSY</th>  <td>    0.0833</td> <td>    0.043</td> <td>    1.924</td> <td> 0.055</td> <td>   -0.002</td> <td>    0.168</td>\n",
       "</tr>\n",
       "<tr>\n",
       "  <th>HEIGHT</th> <td>   -0.1072</td> <td>    0.067</td> <td>   -1.609</td> <td> 0.108</td> <td>   -0.238</td> <td>    0.023</td>\n",
       "</tr>\n",
       "<tr>\n",
       "  <th>CHOL</th>   <td>   -0.0037</td> <td>    0.003</td> <td>   -1.117</td> <td> 0.264</td> <td>   -0.010</td> <td>    0.003</td>\n",
       "</tr>\n",
       "</table>\n",
       "<table class=\"simpletable\">\n",
       "<tr>\n",
       "  <th>Omnibus:</th>       <td>119.060</td> <th>  Durbin-Watson:     </th> <td>   1.963</td>\n",
       "</tr>\n",
       "<tr>\n",
       "  <th>Prob(Omnibus):</th> <td> 0.000</td>  <th>  Jarque-Bera (JB):  </th> <td> 159.119</td>\n",
       "</tr>\n",
       "<tr>\n",
       "  <th>Skew:</th>          <td> 0.461</td>  <th>  Prob(JB):          </th> <td>2.80e-35</td>\n",
       "</tr>\n",
       "<tr>\n",
       "  <th>Kurtosis:</th>      <td> 3.821</td>  <th>  Cond. No.          </th> <td>4.55e+05</td>\n",
       "</tr>\n",
       "</table><br/><br/>Warnings:<br/>[1] Standard Errors assume that the covariance matrix of the errors is correctly specified.<br/>[2] The condition number is large, 4.55e+05. This might indicate that there are<br/>strong multicollinearity or other numerical problems."
      ],
      "text/plain": [
       "<class 'statsmodels.iolib.summary.Summary'>\n",
       "\"\"\"\n",
       "                            OLS Regression Results                            \n",
       "==============================================================================\n",
       "Dep. Variable:                 LBDLDL   R-squared:                       0.206\n",
       "Model:                            OLS   Adj. R-squared:                  0.203\n",
       "Method:                 Least Squares   F-statistic:                     71.99\n",
       "Date:                Thu, 05 Dec 2019   Prob (F-statistic):          2.03e-118\n",
       "Time:                        14:15:44   Log-Likelihood:                -12212.\n",
       "No. Observations:                2503   AIC:                         2.444e+04\n",
       "Df Residuals:                    2493   BIC:                         2.450e+04\n",
       "Df Model:                           9                                         \n",
       "Covariance Type:            nonrobust                                         \n",
       "==============================================================================\n",
       "                 coef    std err          t      P>|t|      [0.025      0.975]\n",
       "------------------------------------------------------------------------------\n",
       "const         35.2934     11.521      3.063      0.002      12.702      57.885\n",
       "LBXTR          0.4379      0.033     13.152      0.000       0.373       0.503\n",
       "LBXTR2        -0.0010      0.000     -9.723      0.000      -0.001      -0.001\n",
       "BPXDI          0.1121      0.059      1.897      0.058      -0.004       0.228\n",
       "AGE            2.0966      0.176     11.925      0.000       1.752       2.441\n",
       "AGE2          -0.0221      0.002    -11.502      0.000      -0.026      -0.018\n",
       "RACE           0.9698      0.410      2.363      0.018       0.165       1.775\n",
       "BPXSY          0.0833      0.043      1.924      0.055      -0.002       0.168\n",
       "HEIGHT        -0.1072      0.067     -1.609      0.108      -0.238       0.023\n",
       "CHOL          -0.0037      0.003     -1.117      0.264      -0.010       0.003\n",
       "==============================================================================\n",
       "Omnibus:                      119.060   Durbin-Watson:                   1.963\n",
       "Prob(Omnibus):                  0.000   Jarque-Bera (JB):              159.119\n",
       "Skew:                           0.461   Prob(JB):                     2.80e-35\n",
       "Kurtosis:                       3.821   Cond. No.                     4.55e+05\n",
       "==============================================================================\n",
       "\n",
       "Warnings:\n",
       "[1] Standard Errors assume that the covariance matrix of the errors is correctly specified.\n",
       "[2] The condition number is large, 4.55e+05. This might indicate that there are\n",
       "strong multicollinearity or other numerical problems.\n",
       "\"\"\""
      ]
     },
     "execution_count": 17,
     "metadata": {},
     "output_type": "execute_result"
    }
   ],
   "source": [
    "lm.summary()"
   ]
  },
  {
   "cell_type": "code",
   "execution_count": 21,
   "metadata": {},
   "outputs": [],
   "source": [
    "model2=sm.MixedLM.from_formula(\"LBDLDL~LBXTR+LBXTR2+BPXDI+AGE+AGE2+BPXSY+HEIGHT+CHOL\",\n",
    "                              Data,groups=Data['RACE'])"
   ]
  },
  {
   "cell_type": "code",
   "execution_count": 23,
   "metadata": {},
   "outputs": [],
   "source": [
    "res=model2.fit()\n"
   ]
  },
  {
   "cell_type": "code",
   "execution_count": 26,
   "metadata": {},
   "outputs": [
    {
     "data": {
      "text/html": [
       "<table class=\"simpletable\">\n",
       "<tr>\n",
       "       <td>Model:</td>       <td>MixedLM</td> <td>Dependent Variable:</td>   <td>LBDLDL</td>   \n",
       "</tr>\n",
       "<tr>\n",
       "  <td>No. Observations:</td>  <td>2503</td>         <td>Method:</td>          <td>REML</td>    \n",
       "</tr>\n",
       "<tr>\n",
       "     <td>No. Groups:</td>       <td>6</td>          <td>Scale:</td>         <td>1017.2526</td> \n",
       "</tr>\n",
       "<tr>\n",
       "  <td>Min. group size:</td>    <td>93</td>        <td>Likelihood:</td>     <td>-12245.0814</td>\n",
       "</tr>\n",
       "<tr>\n",
       "  <td>Max. group size:</td>    <td>852</td>       <td>Converged:</td>          <td>Yes</td>    \n",
       "</tr>\n",
       "<tr>\n",
       "  <td>Mean group size:</td>   <td>417.2</td>           <td></td>                <td></td>      \n",
       "</tr>\n",
       "</table>\n",
       "<table class=\"simpletable\">\n",
       "<tr>\n",
       "      <td></td>       <th>Coef.</th> <th>Std.Err.</th>    <th>z</th>    <th>P>|z|</th> <th>[0.025</th> <th>0.975]</th>\n",
       "</tr>\n",
       "<tr>\n",
       "  <th>Intercept</th> <td>38.613</td>  <td>12.111</td>   <td>3.188</td>  <td>0.001</td> <td>14.876</td> <td>62.351</td>\n",
       "</tr>\n",
       "<tr>\n",
       "  <th>LBXTR</th>      <td>0.436</td>   <td>0.034</td>  <td>12.917</td>  <td>0.000</td>  <td>0.370</td>  <td>0.502</td>\n",
       "</tr>\n",
       "<tr>\n",
       "  <th>LBXTR2</th>    <td>-0.001</td>   <td>0.000</td>  <td>-9.616</td>  <td>0.000</td> <td>-0.001</td> <td>-0.001</td>\n",
       "</tr>\n",
       "<tr>\n",
       "  <th>BPXDI</th>      <td>0.119</td>   <td>0.059</td>   <td>2.017</td>  <td>0.044</td>  <td>0.003</td>  <td>0.235</td>\n",
       "</tr>\n",
       "<tr>\n",
       "  <th>AGE</th>        <td>2.101</td>   <td>0.177</td>  <td>11.895</td>  <td>0.000</td>  <td>1.755</td>  <td>2.448</td>\n",
       "</tr>\n",
       "<tr>\n",
       "  <th>AGE2</th>      <td>-0.022</td>   <td>0.002</td>  <td>-11.462</td> <td>0.000</td> <td>-0.026</td> <td>-0.018</td>\n",
       "</tr>\n",
       "<tr>\n",
       "  <th>BPXSY</th>      <td>0.080</td>   <td>0.044</td>   <td>1.822</td>  <td>0.069</td> <td>-0.006</td>  <td>0.165</td>\n",
       "</tr>\n",
       "<tr>\n",
       "  <th>HEIGHT</th>    <td>-0.108</td>   <td>0.070</td>  <td>-1.533</td>  <td>0.125</td> <td>-0.246</td>  <td>0.030</td>\n",
       "</tr>\n",
       "<tr>\n",
       "  <th>CHOL</th>      <td>-0.004</td>   <td>0.003</td>  <td>-1.132</td>  <td>0.258</td> <td>-0.010</td>  <td>0.003</td>\n",
       "</tr>\n",
       "<tr>\n",
       "  <th>Group Var</th>  <td>1.897</td>   <td>0.098</td>     <td></td>       <td></td>       <td></td>       <td></td>   \n",
       "</tr>\n",
       "</table>"
      ],
      "text/plain": [
       "<class 'statsmodels.iolib.summary2.Summary'>\n",
       "\"\"\"\n",
       "          Mixed Linear Model Regression Results\n",
       "=========================================================\n",
       "Model:            MixedLM Dependent Variable: LBDLDL     \n",
       "No. Observations: 2503    Method:             REML       \n",
       "No. Groups:       6       Scale:              1017.2526  \n",
       "Min. group size:  93      Likelihood:         -12245.0814\n",
       "Max. group size:  852     Converged:          Yes        \n",
       "Mean group size:  417.2                                  \n",
       "---------------------------------------------------------\n",
       "              Coef.  Std.Err.    z    P>|z| [0.025 0.975]\n",
       "---------------------------------------------------------\n",
       "Intercept     38.613   12.111   3.188 0.001 14.876 62.351\n",
       "LBXTR          0.436    0.034  12.917 0.000  0.370  0.502\n",
       "LBXTR2        -0.001    0.000  -9.616 0.000 -0.001 -0.001\n",
       "BPXDI          0.119    0.059   2.017 0.044  0.003  0.235\n",
       "AGE            2.101    0.177  11.895 0.000  1.755  2.448\n",
       "AGE2          -0.022    0.002 -11.462 0.000 -0.026 -0.018\n",
       "BPXSY          0.080    0.044   1.822 0.069 -0.006  0.165\n",
       "HEIGHT        -0.108    0.070  -1.533 0.125 -0.246  0.030\n",
       "CHOL          -0.004    0.003  -1.132 0.258 -0.010  0.003\n",
       "Group Var      1.897    0.098                            \n",
       "=========================================================\n",
       "\n",
       "\"\"\""
      ]
     },
     "execution_count": 26,
     "metadata": {},
     "output_type": "execute_result"
    }
   ],
   "source": [
    "res.summary()"
   ]
  }
 ],
 "metadata": {
  "kernelspec": {
   "display_name": "Python 3",
   "language": "python",
   "name": "python3"
  },
  "language_info": {
   "codemirror_mode": {
    "name": "ipython",
    "version": 3
   },
   "file_extension": ".py",
   "mimetype": "text/x-python",
   "name": "python",
   "nbconvert_exporter": "python",
   "pygments_lexer": "ipython3",
   "version": "3.7.1"
  }
 },
 "nbformat": 4,
 "nbformat_minor": 2
}
